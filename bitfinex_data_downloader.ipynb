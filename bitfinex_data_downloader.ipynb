{
 "cells": [
  {
   "cell_type": "code",
   "execution_count": 240,
   "metadata": {},
   "outputs": [],
   "source": [
    "import bitfinex\n",
    "\n",
    "import datetime\n",
    "import time\n",
    "import os\n",
    "\n",
    "import pandas as pd\n",
    "import numpy as np\n",
    "\n",
    "import matplotlib.pyplot as plt"
   ]
  },
  {
   "cell_type": "markdown",
   "metadata": {},
   "source": [
    "----------"
   ]
  },
  {
   "cell_type": "markdown",
   "metadata": {},
   "source": [
    "Bitfinex gestisce il tempo in relazione al **UTC** (*Universal Time Convention*), il nostro è chiaramente UTC+1."
   ]
  },
  {
   "cell_type": "code",
   "execution_count": 292,
   "metadata": {},
   "outputs": [
    {
     "name": "stdout",
     "output_type": "stream",
     "text": [
      "No keys, only access to public API functions\n"
     ]
    }
   ],
   "source": [
    "api_v1 = bitfinex.bitfinex_v1.api_v1()\n",
    "pairs = np.array(api_v1.symbols())\n",
    "pairs = pairs[[(pair[-3:]=='usd' and pair[-4]!=':') for pair in pairs]]"
   ]
  },
  {
   "cell_type": "code",
   "execution_count": 293,
   "metadata": {},
   "outputs": [
    {
     "data": {
      "text/plain": [
       "array(['btcusd', 'ltcusd', 'ethusd', 'etcusd', 'rrtusd', 'zecusd',\n",
       "       'xmrusd', 'dshusd', 'xrpusd', 'iotusd', 'eosusd', 'sanusd',\n",
       "       'omgusd', 'neousd', 'etpusd', 'qtmusd', 'avtusd', 'edousd',\n",
       "       'btgusd', 'datusd', 'qshusd', 'yywusd', 'gntusd', 'sntusd',\n",
       "       'batusd', 'mnausd', 'funusd', 'zrxusd', 'tnbusd', 'trxusd',\n",
       "       'rcnusd', 'rlcusd', 'sngusd', 'repusd', 'necusd', 'iosusd',\n",
       "       'aiousd', 'requsd', 'lrcusd', 'waxusd', 'daiusd', 'bftusd',\n",
       "       'mtnusd', 'odeusd', 'antusd', 'stjusd', 'xlmusd', 'xvgusd',\n",
       "       'mkrusd', 'kncusd', 'poausd', 'lymusd', 'utkusd', 'veeusd',\n",
       "       'orsusd', 'aucusd', 'cbtusd', 'zcnusd', 'ncausd', 'cndusd',\n",
       "       'ctxusd', 'paiusd', 'essusd', 'hotusd', 'dtausd', 'iqxusd',\n",
       "       'wprusd', 'zilusd', 'bntusd', 'xrausd', 'manusd', 'dgxusd',\n",
       "       'vetusd', 'tknusd', 'gotusd', 'xtzusd', 'boxusd', 'mgousd',\n",
       "       'yggusd', 'mlnusd', 'wtcusd', 'omnusd', 'drnusd', 'pnkusd',\n",
       "       'dgbusd', 'bsvusd', 'enjusd', 'onlusd', 'rbtusd', 'ustusd',\n",
       "       'eutusd', 'gsdusd', 'udcusd', 'tsdusd', 'paxusd', 'rifusd',\n",
       "       'pasusd', 'vsyusd', 'bttusd', 'clousd', 'impusd', 'scrusd',\n",
       "       'gnousd', 'genusd', 'atousd', 'wbtusd', 'xchusd', 'eususd',\n",
       "       'leousd', 'astusd', 'zbtusd', 'okbusd', 'uskusd', 'gtxusd',\n",
       "       'kanusd', 'ampusd', 'algusd', 'swmusd', 'triusd', 'uosusd',\n",
       "       'rrbusd', 'dtxusd', 'fttusd', 'chzusd', 'testbtc:testusd',\n",
       "       'dogusd', 'dotusd', 'adausd', 'fetusd', 'ksmusd', 'uniusd',\n",
       "       'snxusd', 'yfiusd', 'balusd', 'nutusd', 'filusd', 'jstusd',\n",
       "       'hezusd', 'xdcusd', 'pluusd', 'sunusd', 'uopusd'], dtype='<U20')"
      ]
     },
     "execution_count": 293,
     "metadata": {},
     "output_type": "execute_result"
    }
   ],
   "source": [
    "pairs"
   ]
  },
  {
   "cell_type": "code",
   "execution_count": 273,
   "metadata": {},
   "outputs": [
    {
     "name": "stdout",
     "output_type": "stream",
     "text": [
      "No keys, only access to public API functions\n",
      "No keys, only access to public API functions\n",
      "Downloading BTCUSD..\n"
     ]
    },
    {
     "ename": "KeyboardInterrupt",
     "evalue": "",
     "output_type": "error",
     "traceback": [
      "\u001b[0;31m-------------------------------------------------------------------------\u001b[0m",
      "\u001b[0;31mKeyboardInterrupt\u001b[0m                       Traceback (most recent call last)",
      "\u001b[0;32m<ipython-input-273-6afc9ff4d07d>\u001b[0m in \u001b[0;36m<module>\u001b[0;34m\u001b[0m\n\u001b[1;32m      5\u001b[0m \u001b[0;34m\u001b[0m\u001b[0m\n\u001b[1;32m      6\u001b[0m \u001b[0;32mfor\u001b[0m \u001b[0mpair\u001b[0m \u001b[0;32min\u001b[0m \u001b[0mpairs\u001b[0m\u001b[0;34m:\u001b[0m\u001b[0;34m\u001b[0m\u001b[0;34m\u001b[0m\u001b[0m\n\u001b[0;32m----> 7\u001b[0;31m     \u001b[0mpair_data\u001b[0m \u001b[0;34m=\u001b[0m \u001b[0mhist_data\u001b[0m\u001b[0;34m(\u001b[0m\u001b[0msymb\u001b[0m\u001b[0;34m=\u001b[0m\u001b[0mpair\u001b[0m\u001b[0;34m)\u001b[0m\u001b[0;34m\u001b[0m\u001b[0;34m\u001b[0m\u001b[0m\n\u001b[0m\u001b[1;32m      8\u001b[0m \u001b[0;34m\u001b[0m\u001b[0m\n\u001b[1;32m      9\u001b[0m     \u001b[0mind\u001b[0m \u001b[0;34m=\u001b[0m \u001b[0;34m[\u001b[0m\u001b[0mnp\u001b[0m\u001b[0;34m.\u001b[0m\u001b[0mndim\u001b[0m\u001b[0;34m(\u001b[0m\u001b[0mx\u001b[0m\u001b[0;34m)\u001b[0m \u001b[0;34m!=\u001b[0m \u001b[0;36m0\u001b[0m \u001b[0;32mfor\u001b[0m \u001b[0mx\u001b[0m \u001b[0;32min\u001b[0m \u001b[0mpair_data\u001b[0m\u001b[0;34m]\u001b[0m\u001b[0;34m\u001b[0m\u001b[0;34m\u001b[0m\u001b[0m\n",
      "\u001b[0;32m<ipython-input-272-08837b4d297a>\u001b[0m in \u001b[0;36mhist_data\u001b[0;34m(symb, start, stop, interval, tick_limit, step)\u001b[0m\n\u001b[1;32m     23\u001b[0m         \u001b[0;31m#print(f\"{pd.to_datetime(start, unit='ms')} - {pd.to_datetime(end, unit='ms')}\\n\")\u001b[0m\u001b[0;34m\u001b[0m\u001b[0;34m\u001b[0m\u001b[0;34m\u001b[0m\u001b[0m\n\u001b[1;32m     24\u001b[0m         \u001b[0mstart\u001b[0m \u001b[0;34m+=\u001b[0m \u001b[0mstep\u001b[0m\u001b[0;34m\u001b[0m\u001b[0;34m\u001b[0m\u001b[0m\n\u001b[0;32m---> 25\u001b[0;31m         \u001b[0mtime\u001b[0m\u001b[0;34m.\u001b[0m\u001b[0msleep\u001b[0m\u001b[0;34m(\u001b[0m\u001b[0;36m1.5\u001b[0m\u001b[0;34m)\u001b[0m\u001b[0;34m\u001b[0m\u001b[0;34m\u001b[0m\u001b[0m\n\u001b[0m\u001b[1;32m     26\u001b[0m \u001b[0;34m\u001b[0m\u001b[0m\n\u001b[1;32m     27\u001b[0m     \u001b[0;32mreturn\u001b[0m \u001b[0mdata\u001b[0m\u001b[0;34m\u001b[0m\u001b[0;34m\u001b[0m\u001b[0m\n",
      "\u001b[0;31mKeyboardInterrupt\u001b[0m: "
     ]
    }
   ],
   "source": [
    "save_path = './data/'\n",
    "\n",
    "for pair in pairs:\n",
    "    pair_data = hist_data(symb=pair)\n",
    "\n",
    "    ind = [np.ndim(x) != 0 for x in pair_data]\n",
    "    pair_data = [i for (i, v) in zip(pair_data, ind) if v]\n",
    "\n",
    "    names = ['unix_stamp', 'open', 'close', 'high', 'low', 'volume']\n",
    "    df = pd.DataFrame(pair_data, columns=names)\n",
    "    df.drop_duplicates(inplace=True)\n",
    "    df['datetime'] = pd.to_datetime(df['unix_timestamp'], unit='ms')\n",
    "    \n",
    "    df.set_index('datetime', inplace=True)\n",
    "    df.sort_index(inplace=True)\n",
    "\n",
    "    print('Download complete! Saving to CSV format..')\n",
    "    df.to_csv(save_path+f'{pair.upper()}.csv')\n",
    "    print('Done! Moving to next pair.')\n",
    "\n",
    "print('END')"
   ]
  },
  {
   "cell_type": "markdown",
   "metadata": {},
   "source": [
    "----"
   ]
  },
  {
   "cell_type": "markdown",
   "metadata": {},
   "source": [
    "## Methods declaration"
   ]
  },
  {
   "cell_type": "code",
   "execution_count": 214,
   "metadata": {},
   "outputs": [],
   "source": [
    "def date_2_stamp(date):\n",
    "    '''\n",
    "    Convert UTC date format to unix timestamp.\n",
    "    \n",
    "    Parameters\n",
    "    ----------\n",
    "    datetime : string\n",
    "        Object indicating desired date to convert. Suggested format (YYYY-MM-DD).\n",
    "    '''\n",
    "    \n",
    "    stamp = pd.to_datetime(pd.to_datetime(date))\n",
    "    stamp = ((stamp - pd.Timestamp(\"1970-01-01\")) // pd.Timedelta('1s'))*1000\n",
    "    \n",
    "    return stamp"
   ]
  },
  {
   "cell_type": "code",
   "execution_count": 272,
   "metadata": {},
   "outputs": [],
   "source": [
    "def hist_data(symb='btcusd', start=1364767200000, stop='today', interval='1m', tick_limit=1000, step=60000000):\n",
    "    api_v2 = bitfinex.bitfinex_v2.api_v2()\n",
    "    \n",
    "    if stop == 'today':\n",
    "        today = datetime.datetime.today()\n",
    "        stop = time.mktime(today.timetuple())*1000\n",
    "    \n",
    "    data = []\n",
    "    \n",
    "    print(f'Downloading {pair.upper()}..')\n",
    "    year = datetime.datetime.fromtimestamp(start/1000).year\n",
    "\n",
    "    while start < stop:          \n",
    "        end = start + step\n",
    "        res = api_v2.candles(symbol=symb, interval=interval, limit=tick_limit, start=start, end=end)\n",
    "        data.extend(res)\n",
    "        \n",
    "        new_year = datetime.datetime.fromtimestamp(end/1000).year\n",
    "        if new_year > year:\n",
    "            print(f'{year} completed!')\n",
    "            year = new_year\n",
    "\n",
    "        #print(f\"{pd.to_datetime(start, unit='ms')} - {pd.to_datetime(end, unit='ms')}\\n\")\n",
    "        start += step\n",
    "        time.sleep(1.5)\n",
    "\n",
    "    return data"
   ]
  },
  {
   "cell_type": "markdown",
   "metadata": {},
   "source": [
    "---"
   ]
  },
  {
   "cell_type": "code",
   "execution_count": 183,
   "metadata": {},
   "outputs": [],
   "source": [
    "t_start = datetime.datetime(2021, 1, 2, 0, 0)\n",
    "t_start = time.mktime(t_start.timetuple()) * 1000\n",
    "\n",
    "t_stop = datetime.datetime(2021, 1, 3, 0, 0)\n",
    "t_stop = time.mktime(t_stop.timetuple()) * 1000"
   ]
  },
  {
   "cell_type": "code",
   "execution_count": 180,
   "metadata": {},
   "outputs": [
    {
     "name": "stdout",
     "output_type": "stream",
     "text": [
      "No keys, only access to public API functions\n",
      "No keys, only access to public API functions\n",
      "Retrieving data from 2021-01-01 23:00:00 to 2021-01-02 15:40:00 for btcusd\n",
      "Retrieving data from 2021-01-02 15:40:00 to 2021-01-03 08:20:00 for btcusd\n",
      "Retrieving data from 2021-01-03 08:20:00 to 2021-01-04 01:00:00 for btcusd\n"
     ]
    },
    {
     "ename": "KeyboardInterrupt",
     "evalue": "",
     "output_type": "error",
     "traceback": [
      "\u001b[0;31m-------------------------------------------------------------------------\u001b[0m",
      "\u001b[0;31mKeyboardInterrupt\u001b[0m                       Traceback (most recent call last)",
      "\u001b[0;32m<ipython-input-180-85e59c5b65ac>\u001b[0m in \u001b[0;36m<module>\u001b[0;34m\u001b[0m\n\u001b[1;32m     46\u001b[0m \u001b[0;34m\u001b[0m\u001b[0m\n\u001b[1;32m     47\u001b[0m \u001b[0;34m\u001b[0m\u001b[0m\n\u001b[0;32m---> 48\u001b[0;31m \u001b[0mdata_list\u001b[0m \u001b[0;34m=\u001b[0m \u001b[0mfetch_data\u001b[0m\u001b[0;34m(\u001b[0m\u001b[0mstart\u001b[0m\u001b[0;34m=\u001b[0m\u001b[0mt_start\u001b[0m\u001b[0;34m,\u001b[0m \u001b[0mstop\u001b[0m\u001b[0;34m=\u001b[0m\u001b[0mt_stop\u001b[0m\u001b[0;34m,\u001b[0m \u001b[0msymbol\u001b[0m\u001b[0;34m=\u001b[0m\u001b[0mpair\u001b[0m\u001b[0;34m,\u001b[0m \u001b[0minterval\u001b[0m\u001b[0;34m=\u001b[0m\u001b[0mbin_size\u001b[0m\u001b[0;34m,\u001b[0m \u001b[0mtick_limit\u001b[0m\u001b[0;34m=\u001b[0m\u001b[0mlimit\u001b[0m\u001b[0;34m,\u001b[0m \u001b[0mstep\u001b[0m\u001b[0;34m=\u001b[0m\u001b[0mtime_step\u001b[0m\u001b[0;34m)\u001b[0m\u001b[0;34m\u001b[0m\u001b[0;34m\u001b[0m\u001b[0m\n\u001b[0m\u001b[1;32m     49\u001b[0m \u001b[0;34m\u001b[0m\u001b[0m\n\u001b[1;32m     50\u001b[0m \u001b[0mnot_emp\u001b[0m \u001b[0;34m=\u001b[0m \u001b[0;34m[\u001b[0m\u001b[0mnp\u001b[0m\u001b[0;34m.\u001b[0m\u001b[0mndim\u001b[0m\u001b[0;34m(\u001b[0m\u001b[0mx\u001b[0m\u001b[0;34m)\u001b[0m \u001b[0;34m!=\u001b[0m \u001b[0;36m0\u001b[0m \u001b[0;32mfor\u001b[0m \u001b[0mx\u001b[0m \u001b[0;32min\u001b[0m \u001b[0mdata_list\u001b[0m\u001b[0;34m]\u001b[0m\u001b[0;34m\u001b[0m\u001b[0;34m\u001b[0m\u001b[0m\n",
      "\u001b[0;32m<ipython-input-180-85e59c5b65ac>\u001b[0m in \u001b[0;36mfetch_data\u001b[0;34m(start, stop, symbol, interval, tick_limit, step)\u001b[0m\n\u001b[1;32m     22\u001b[0m         print('Retrieving data from {} to {} for {}'.format(pd.to_datetime(start, unit='ms'),\n\u001b[1;32m     23\u001b[0m                                                             pd.to_datetime(end, unit='ms'), symbol))\n\u001b[0;32m---> 24\u001b[0;31m         \u001b[0mtime\u001b[0m\u001b[0;34m.\u001b[0m\u001b[0msleep\u001b[0m\u001b[0;34m(\u001b[0m\u001b[0;36m1.5\u001b[0m\u001b[0;34m)\u001b[0m\u001b[0;34m\u001b[0m\u001b[0;34m\u001b[0m\u001b[0m\n\u001b[0m\u001b[1;32m     25\u001b[0m     \u001b[0;32mreturn\u001b[0m \u001b[0mdata\u001b[0m\u001b[0;34m\u001b[0m\u001b[0;34m\u001b[0m\u001b[0m\n\u001b[1;32m     26\u001b[0m \u001b[0;34m\u001b[0m\u001b[0m\n",
      "\u001b[0;31mKeyboardInterrupt\u001b[0m: "
     ]
    }
   ],
   "source": [
    "import bitfinex\n",
    "import pandas as pd\n",
    "import numpy as np\n",
    "import datetime\n",
    "import time\n",
    "import os\n",
    "\n",
    "\n",
    "# Create a function to fetch the data\n",
    "def fetch_data(start=1364767200000, stop=1545346740000, symbol='btcusd', interval='1m', tick_limit=1000, step=60000000):\n",
    "    # Create api instance\n",
    "    api_v2 = bitfinex.bitfinex_v2.api_v2()\n",
    "\n",
    "    data = []\n",
    "    start = start - step\n",
    "    while start < stop:\n",
    "\n",
    "        start = start + step\n",
    "        end = start + step\n",
    "        res = api_v2.candles(symbol=symbol, interval=interval, limit=tick_limit, start=start, end=end)\n",
    "        data.extend(res)\n",
    "        print('Retrieving data from {} to {} for {}'.format(pd.to_datetime(start, unit='ms'),\n",
    "                                                            pd.to_datetime(end, unit='ms'), symbol))\n",
    "        time.sleep(1.5)\n",
    "    return data\n",
    "\n",
    "\n",
    "# Define query parameters\n",
    "bin_size = '1m'\n",
    "limit = 1000\n",
    "time_step = 1000 * 60 * limit\n",
    "\n",
    "t_start = datetime.datetime(2021, 1, 2, 0, 0, tzinfo=datetime.timezone.utc)\n",
    "t_start = time.mktime(t_start.timetuple()) * 1000\n",
    "\n",
    "t_stop = datetime.datetime(2021, 1, 3, 0, 0, tzinfo=datetime.timezone.utc)\n",
    "t_stop = time.mktime(t_stop.timetuple()) * 1000\n",
    "\n",
    "api_v1 = bitfinex.bitfinex_v1.api_v1()\n",
    "pair = api_v1.symbols()[0]\n",
    "\n",
    "save_path = './data'\n",
    "\n",
    "if os.path.exists(save_path) is False:\n",
    "    os.mkdir(save_path)\n",
    "\n",
    "\n",
    "data_list = fetch_data(start=t_start, stop=t_stop, symbol=pair, interval=bin_size, tick_limit=limit, step=time_step)\n",
    "\n",
    "not_emp = [np.ndim(x) != 0 for x in data_list] \n",
    "data_list = [i for (i, v) in zip(data_list, not_emp) if v]\n",
    "\n",
    "# Create pandas data frame and clean data\n",
    "names = ['time', 'open', 'close', 'high', 'low', 'volume']\n",
    "df = pd.DataFrame(pair_data, columns=names)\n",
    "df.drop_duplicates(inplace=True)\n",
    "# df['time'] = pd.to_datetime(df['time'], unit='ms')\n",
    "df.set_index('time', inplace=True)\n",
    "df.sort_index(inplace=True)\n",
    "\n",
    "print('Done downloading data. Saving to .csv.')\n",
    "df.to_csv('{}/bitfinex_{}.csv'.format(save_path, pair))\n",
    "print('Done saving data. Moving to next pair.')\n",
    "\n",
    "print('Done retrieving data')"
   ]
  }
 ],
 "metadata": {
  "kernelspec": {
   "display_name": "Python 3",
   "language": "python",
   "name": "python3"
  },
  "language_info": {
   "codemirror_mode": {
    "name": "ipython",
    "version": 3
   },
   "file_extension": ".py",
   "mimetype": "text/x-python",
   "name": "python",
   "nbconvert_exporter": "python",
   "pygments_lexer": "ipython3",
   "version": "3.8.5"
  }
 },
 "nbformat": 4,
 "nbformat_minor": 4
}
